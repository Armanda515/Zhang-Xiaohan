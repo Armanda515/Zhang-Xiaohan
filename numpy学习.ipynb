{
 "cells": [
  {
   "cell_type": "code",
   "execution_count": 1,
   "metadata": {},
   "outputs": [
    {
     "name": "stdout",
     "output_type": "stream",
     "text": [
      "int32\n",
      "<class 'numpy.dtype'>\n"
     ]
    }
   ],
   "source": [
    "#numpy常用函数\n",
    "#定义数据类型\n",
    "import numpy as np\n",
    "dt = np.dtype('i4')#‘i4’相当于int32\n",
    "print (dt)\n",
    "print (type(dt))"
   ]
  },
  {
   "cell_type": "code",
   "execution_count": 12,
   "metadata": {},
   "outputs": [
    {
     "name": "stdout",
     "output_type": "stream",
     "text": [
      "[('name', 'S10'), ('age', '<i4'), ('marks', '<f4')]\n",
      "<class 'numpy.dtype'>\n"
     ]
    }
   ],
   "source": [
    "students = np.dtype([(\"name\",'S10'),(\"age\",'int32'),(\"marks\",'f4')])\n",
    "print(students)\n",
    "print(type(students))"
   ]
  },
  {
   "cell_type": "code",
   "execution_count": 13,
   "metadata": {},
   "outputs": [
    {
     "data": {
      "text/plain": [
       "array([[1, 2, 3],\n",
       "       [4, 5, 6]])"
      ]
     },
     "execution_count": 13,
     "metadata": {},
     "output_type": "execute_result"
    }
   ],
   "source": [
    "#多维数组\n",
    "arr = np.array([[1,2,3],[4,5,6]])\n",
    "arr"
   ]
  },
  {
   "cell_type": "code",
   "execution_count": 16,
   "metadata": {},
   "outputs": [
    {
     "data": {
      "text/plain": [
       "array([[[1, 2, 3, 8, 6, 7, 4]]])"
      ]
     },
     "execution_count": 16,
     "metadata": {},
     "output_type": "execute_result"
    }
   ],
   "source": [
    "arr = np.array([1,2,3,8,6,7,4],ndmin=3)\n",
    "arr"
   ]
  },
  {
   "cell_type": "code",
   "execution_count": 18,
   "metadata": {},
   "outputs": [
    {
     "data": {
      "text/plain": [
       "array([1., 4., 5., 6.], dtype=float32)"
      ]
     },
     "execution_count": 18,
     "metadata": {},
     "output_type": "execute_result"
    }
   ],
   "source": [
    "arr = np.array([1,4,5,6],dtype='f')\n",
    "arr"
   ]
  },
  {
   "cell_type": "code",
   "execution_count": 3,
   "metadata": {},
   "outputs": [
    {
     "data": {
      "text/plain": [
       "array([[0., 0.],\n",
       "       [0., 0.],\n",
       "       [0., 0.]], dtype=float32)"
      ]
     },
     "execution_count": 3,
     "metadata": {},
     "output_type": "execute_result"
    }
   ],
   "source": [
    "import numpy as np\n",
    "arr = np.empty([3,2],dtype='f')\n",
    "arr"
   ]
  },
  {
   "cell_type": "code",
   "execution_count": 5,
   "metadata": {},
   "outputs": [
    {
     "data": {
      "text/plain": [
       "array([(b'zxh', 20, 98.4), (b'armanda', 20, 99.2)],\n",
       "      dtype=[('name', 'S10'), ('age', '<i4'), ('marks', '<f4')])"
      ]
     },
     "execution_count": 5,
     "metadata": {},
     "output_type": "execute_result"
    }
   ],
   "source": [
    "#结构化数据类型\n",
    "student = np.dtype([(\"name\",'S10'),(\"age\",'int32'),(\"marks\",'f4')])\n",
    "arr = np.array([(\"zxh\",20,98.4),(\"armanda\",20,99.2)],dtype = student)\n",
    "arr"
   ]
  },
  {
   "cell_type": "code",
   "execution_count": 7,
   "metadata": {},
   "outputs": [
    {
     "data": {
      "text/plain": [
       "array([[525, 525],\n",
       "       [525, 525],\n",
       "       [525, 525]])"
      ]
     },
     "execution_count": 7,
     "metadata": {},
     "output_type": "execute_result"
    }
   ],
   "source": [
    "arr = np.full([3,2],fill_value=525,dtype='i4')\n",
    "arr"
   ]
  },
  {
   "cell_type": "code",
   "execution_count": 8,
   "metadata": {},
   "outputs": [
    {
     "data": {
      "text/plain": [
       "array([[1, 0, 0, 0, 0, 0, 0, 0, 0, 0],\n",
       "       [0, 1, 0, 0, 0, 0, 0, 0, 0, 0],\n",
       "       [0, 0, 1, 0, 0, 0, 0, 0, 0, 0],\n",
       "       [0, 0, 0, 1, 0, 0, 0, 0, 0, 0],\n",
       "       [0, 0, 0, 0, 1, 0, 0, 0, 0, 0],\n",
       "       [0, 0, 0, 0, 0, 1, 0, 0, 0, 0],\n",
       "       [0, 0, 0, 0, 0, 0, 1, 0, 0, 0],\n",
       "       [0, 0, 0, 0, 0, 0, 0, 1, 0, 0],\n",
       "       [0, 0, 0, 0, 0, 0, 0, 0, 1, 0],\n",
       "       [0, 0, 0, 0, 0, 0, 0, 0, 0, 1]])"
      ]
     },
     "execution_count": 8,
     "metadata": {},
     "output_type": "execute_result"
    }
   ],
   "source": [
    "#单位矩阵\n",
    "arr = np.eye(10,dtype='i4')\n",
    "arr"
   ]
  },
  {
   "cell_type": "code",
   "execution_count": 9,
   "metadata": {},
   "outputs": [
    {
     "data": {
      "text/plain": [
       "array([1, 3, 5, 7, 9])"
      ]
     },
     "execution_count": 9,
     "metadata": {},
     "output_type": "execute_result"
    }
   ],
   "source": [
    "#arange函数——>较为重要\n",
    "arr=np.arange(1,11,2)\n",
    "arr"
   ]
  },
  {
   "cell_type": "code",
   "execution_count": 12,
   "metadata": {},
   "outputs": [
    {
     "data": {
      "text/plain": [
       "array([b'h'], dtype='|S1')"
      ]
     },
     "execution_count": 12,
     "metadata": {},
     "output_type": "execute_result"
    }
   ],
   "source": [
    "s=b\"zxh\" #记得加b\n",
    "arr=np.frombuffer(s,dtype='S1',offset=2)\n",
    "arr"
   ]
  },
  {
   "cell_type": "code",
   "execution_count": 18,
   "metadata": {},
   "outputs": [
    {
     "name": "stdout",
     "output_type": "stream",
     "text": [
      "<list_iterator object at 0x000002A78EB0F2C8>\n"
     ]
    },
    {
     "data": {
      "text/plain": [
       "array([1, 2, 3])"
      ]
     },
     "execution_count": 18,
     "metadata": {},
     "output_type": "execute_result"
    }
   ],
   "source": [
    "#可迭代\n",
    "x=[1,2,3]\n",
    "z=iter(x)\n",
    "print(z)\n",
    "arr=np.fromiter(z,dtype='i4')\n",
    "arr"
   ]
  },
  {
   "cell_type": "code",
   "execution_count": 19,
   "metadata": {},
   "outputs": [
    {
     "data": {
      "text/plain": [
       "array([ 1. ,  5.5, 10. ], dtype=float32)"
      ]
     },
     "execution_count": 19,
     "metadata": {},
     "output_type": "execute_result"
    }
   ],
   "source": [
    "#等差数列 开始值、终止值、个数\n",
    "arr=np.linspace(1,10,3,dtype='f')\n",
    "arr"
   ]
  },
  {
   "cell_type": "code",
   "execution_count": 21,
   "metadata": {},
   "outputs": [
    {
     "data": {
      "text/plain": [
       "array([1.e+01, 1.e+10], dtype=float32)"
      ]
     },
     "execution_count": 21,
     "metadata": {},
     "output_type": "execute_result"
    }
   ],
   "source": [
    "#等比数列 开始值、终止值、个数\n",
    "#base是对数的底数\n",
    "arr=np.logspace(1,10,2,dtype='f')\n",
    "arr"
   ]
  },
  {
   "cell_type": "code",
   "execution_count": 2,
   "metadata": {},
   "outputs": [
    {
     "data": {
      "text/plain": [
       "array([0.09328369, 0.96646219])"
      ]
     },
     "execution_count": 2,
     "metadata": {},
     "output_type": "execute_result"
    }
   ],
   "source": [
    "#生成随机数(可数字、可多维数组)\n",
    "import numpy as np\n",
    "arr=np.random.rand(2)\n",
    "arr"
   ]
  },
  {
   "cell_type": "code",
   "execution_count": 6,
   "metadata": {},
   "outputs": [
    {
     "data": {
      "text/plain": [
       "array([[0.78973819, 0.57973206, 0.73928736, 0.7526231 , 0.87615638],\n",
       "       [0.05882278, 0.49331885, 0.13395625, 0.40645179, 0.99943135],\n",
       "       [0.98354999, 0.16259352, 0.51234182, 0.77467681, 0.12321945]])"
      ]
     },
     "execution_count": 6,
     "metadata": {},
     "output_type": "execute_result"
    }
   ],
   "source": [
    "arr=np.random.rand(3,5)#二维数组\n",
    "arr"
   ]
  },
  {
   "cell_type": "code",
   "execution_count": 7,
   "metadata": {},
   "outputs": [
    {
     "data": {
      "text/plain": [
       "array([[[0.29772562, 0.02194397, 0.19553039, 0.20367237],\n",
       "        [0.02154778, 0.90046556, 0.37680667, 0.19597566]],\n",
       "\n",
       "       [[0.40564053, 0.53009725, 0.35213868, 0.25871106],\n",
       "        [0.69066694, 0.78778231, 0.61891318, 0.97020936]],\n",
       "\n",
       "       [[0.23750213, 0.92951917, 0.20005099, 0.9607063 ],\n",
       "        [0.08394611, 0.55699253, 0.43584866, 0.59392641]]])"
      ]
     },
     "execution_count": 7,
     "metadata": {},
     "output_type": "execute_result"
    }
   ],
   "source": [
    "arr=np.random.rand(3,2,4)#三维数组\n",
    "arr"
   ]
  },
  {
   "cell_type": "code",
   "execution_count": 10,
   "metadata": {},
   "outputs": [
    {
     "data": {
      "text/plain": [
       "array([0.55019993, 0.92363897, 0.25353105, 0.54814461])"
      ]
     },
     "execution_count": 10,
     "metadata": {},
     "output_type": "execute_result"
    }
   ],
   "source": [
    "arr=np.random.random(4)#不可生成多维数组\n",
    "arr"
   ]
  },
  {
   "cell_type": "code",
   "execution_count": 16,
   "metadata": {},
   "outputs": [
    {
     "data": {
      "text/plain": [
       "array([6, 2, 6, 2, 9])"
      ]
     },
     "execution_count": 16,
     "metadata": {},
     "output_type": "execute_result"
    }
   ],
   "source": [
    "arr=np.random.randint(0,10,5)#下限（包含）、上限（不包含）、个数、类型\n",
    "arr"
   ]
  },
  {
   "cell_type": "code",
   "execution_count": 20,
   "metadata": {},
   "outputs": [
    {
     "data": {
      "text/plain": [
       "array([[[-0.08265446,  0.51075658,  1.25090321,  0.29554415],\n",
       "        [-2.04190363, -1.46908424, -1.74440716, -1.48439571],\n",
       "        [-1.01724349,  0.55769199,  0.21295437, -0.32309833],\n",
       "        [-1.4085315 , -0.52128729,  2.94135968, -0.08711449],\n",
       "        [-1.54618537,  2.45366089, -1.13622163,  1.11883019]],\n",
       "\n",
       "       [[-0.59202796, -2.01856586, -0.67674057, -0.65728603],\n",
       "        [ 1.01673225,  0.27035016,  1.14690978,  1.66668192],\n",
       "        [-0.62683879,  0.87453342, -1.28365935,  0.89441044],\n",
       "        [-0.46660024, -1.56074024,  0.82344488, -0.4698484 ],\n",
       "        [ 0.00870723, -0.29722801, -0.55603241,  1.42829686]],\n",
       "\n",
       "       [[-1.37521604, -0.95031417,  0.02837865,  0.59870577],\n",
       "        [ 0.6152847 ,  1.74770684, -0.3945024 ,  1.66853058],\n",
       "        [ 1.33618312, -1.15990289, -2.42915025, -1.40634918],\n",
       "        [-1.15478228,  1.08427775,  0.02852721, -0.23546105],\n",
       "        [ 1.28357423,  1.68672035, -1.93618267,  0.23276897]],\n",
       "\n",
       "       [[ 0.56497209,  1.56230572, -0.40441677, -1.15537304],\n",
       "        [-2.40432215,  0.42616259, -0.2841604 , -1.30513964],\n",
       "        [-1.77442136, -0.77976009,  1.88549247, -0.11883057],\n",
       "        [ 2.16419256,  1.94224537,  0.13916798, -1.60149364],\n",
       "        [ 0.66368719,  0.8062436 , -0.111093  , -0.03599554]]])"
      ]
     },
     "execution_count": 20,
     "metadata": {},
     "output_type": "execute_result"
    }
   ],
   "source": [
    "#返回的样本具有标准正态分布——N（0，1）\n",
    "arr=np.random.randn(4,5,4)\n",
    "arr"
   ]
  },
  {
   "cell_type": "code",
   "execution_count": null,
   "metadata": {},
   "outputs": [],
   "source": [
    "#高斯分布的概率密度随机数,分布中心、标准差、元素的个数\n",
    "import numpy as np\n",
    "arr=np.random.normal(loc=1,scale=2,size=5)\n",
    "arr"
   ]
  },
  {
   "cell_type": "code",
   "execution_count": null,
   "metadata": {},
   "outputs": [],
   "source": [
    "#对比python中的列表，numpy的速度快很多\n",
    "import random\n",
    "list=[]\n",
    "for i in range(10000000000):\n",
    "    list.append(random.random())\n",
    "import time\n",
    "t1=time.time()\n",
    "ret=sum(list)\n",
    "t2=time.time()\n",
    "print(\"耗时\":(t2-t1))"
   ]
  },
  {
   "cell_type": "code",
   "execution_count": 5,
   "metadata": {},
   "outputs": [
    {
     "name": "stdout",
     "output_type": "stream",
     "text": [
      "[ 0  1  2  3  4  5  6  7  8  9 10 11 12 13 14 15 16 17 18 19 20 21 22 23\n",
      " 24 25 26 27 28 29 30 31 32 33 34 35 36 37 38 39]\n",
      "1\n",
      "\n",
      "\n",
      "[[[ 0  1  2  3]\n",
      "  [ 4  5  6  7]\n",
      "  [ 8  9 10 11]\n",
      "  [12 13 14 15]\n",
      "  [16 17 18 19]]\n",
      "\n",
      " [[20 21 22 23]\n",
      "  [24 25 26 27]\n",
      "  [28 29 30 31]\n",
      "  [32 33 34 35]\n",
      "  [36 37 38 39]]]\n",
      "3\n"
     ]
    }
   ],
   "source": [
    "import numpy as np\n",
    "arr=np.arange(40)\n",
    "print(arr)\n",
    "print(arr.ndim)\n",
    "print(\"\\n\")\n",
    "arr2=arr.reshape(2,5,4)\n",
    "print(arr2)\n",
    "print(arr2.ndim)"
   ]
  },
  {
   "cell_type": "code",
   "execution_count": 12,
   "metadata": {},
   "outputs": [
    {
     "name": "stdout",
     "output_type": "stream",
     "text": [
      "[[1 4]\n",
      " [5 9]\n",
      " [4 3]]\n",
      "(3, 2)\n"
     ]
    },
    {
     "data": {
      "text/plain": [
       "array([[[1, 4, 5],\n",
       "        [9, 4, 3]]])"
      ]
     },
     "execution_count": 12,
     "metadata": {},
     "output_type": "execute_result"
    }
   ],
   "source": [
    "arr=np.array([[1,4,5],[9,4,3]])\n",
    "arr.shape=(3,2)#调整格式\n",
    "print(arr)\n",
    "print(arr.shape)\n",
    "arr=arr.reshape(1,2,3)\n",
    "arr"
   ]
  },
  {
   "cell_type": "code",
   "execution_count": 26,
   "metadata": {},
   "outputs": [
    {
     "name": "stdout",
     "output_type": "stream",
     "text": [
      "[0 1 2 3 4 5 6 7 8 9]\n",
      "[1 3 5]\n",
      "\n",
      "\n",
      "[1 3 5]\n"
     ]
    }
   ],
   "source": [
    "import numpy as np\n",
    "arr=np.arange(10)\n",
    "print(arr)\n",
    "arr[3]\n",
    "s=slice(1,6,2) #切片:start,stop,step\n",
    "print(arr[s])\n",
    "print(\"\\n\")\n",
    "arr2=arr[1:6:2]\n",
    "print(arr2)"
   ]
  },
  {
   "cell_type": "code",
   "execution_count": 22,
   "metadata": {},
   "outputs": [
    {
     "name": "stdout",
     "output_type": "stream",
     "text": [
      "[0 1 2 3 4 5 6 7 8 9]\n",
      "[2 3 4 5 6 7 8 9]\n",
      "[2 3 4 5 6 7 8 9]\n",
      "[2 3 4 5 6 7]\n"
     ]
    }
   ],
   "source": [
    "import numpy as np\n",
    "arr=np.arange(10)\n",
    "print(arr)\n",
    "print(arr[2:])\n",
    "arr1=arr[2:]\n",
    "print(arr1)\n",
    "arr2=arr[2:8]\n",
    "print(arr2)"
   ]
  },
  {
   "cell_type": "code",
   "execution_count": 31,
   "metadata": {},
   "outputs": [
    {
     "name": "stdout",
     "output_type": "stream",
     "text": [
      "[[ 0  1  2  3  4]\n",
      " [ 5  6  7  8  9]\n",
      " [10 11 12 13 14]]\n",
      "\n",
      "\n",
      "13 <class 'numpy.int32'>\n"
     ]
    }
   ],
   "source": [
    "arr=np.arange(15)\n",
    "arr.shape=(3,5)\n",
    "print(arr)\n",
    "print(\"\\n\")\n",
    "arr1=arr[2][3]\n",
    "print(arr1,type(arr1))"
   ]
  },
  {
   "cell_type": "code",
   "execution_count": 38,
   "metadata": {},
   "outputs": [
    {
     "name": "stdout",
     "output_type": "stream",
     "text": [
      "[[ 0  1  2  3  4]\n",
      " [ 5  6  7  8  9]\n",
      " [10 11 12 13 14]]\n",
      "\n",
      "\n",
      "13 <class 'numpy.int32'>\n"
     ]
    }
   ],
   "source": [
    "arr=np.arange(15)\n",
    "arr.shape=(3,5)\n",
    "print(arr)\n",
    "print(\"\\n\")\n",
    "arr1=arr[2,3]\n",
    "print(arr1,type(arr1))"
   ]
  },
  {
   "cell_type": "code",
   "execution_count": 33,
   "metadata": {},
   "outputs": [
    {
     "name": "stdout",
     "output_type": "stream",
     "text": [
      "[[ 0  1  2  3  4]\n",
      " [ 5  6  7  8  9]\n",
      " [10 11 12 13 14]]\n",
      "\n",
      "\n",
      "[ 3  8 13] <class 'numpy.ndarray'>\n"
     ]
    }
   ],
   "source": [
    "arr=np.arange(15)\n",
    "arr.shape=(3,5)\n",
    "print(arr)\n",
    "print(\"\\n\")\n",
    "arr1=arr[...,3]\n",
    "print(arr1,type(arr1))"
   ]
  },
  {
   "cell_type": "code",
   "execution_count": 37,
   "metadata": {},
   "outputs": [
    {
     "name": "stdout",
     "output_type": "stream",
     "text": [
      "[1 6 9]\n"
     ]
    }
   ],
   "source": [
    "#整数数组索引（获取（0,0），（1,1），（2,0）位置的元素）\n",
    "import numpy as np\n",
    "arr=np.array([[1,2,3],[4,6,7],[9,5,6]])#数组里的维度[[]]\n",
    "print(arr[[0,1,2],[0,1,0]])#行、列"
   ]
  },
  {
   "cell_type": "code",
   "execution_count": 55,
   "metadata": {},
   "outputs": [
    {
     "name": "stdout",
     "output_type": "stream",
     "text": [
      "[[0 1 2]\n",
      " [3 4 5]\n",
      " [6 7 8]]\n",
      "\n",
      "\n",
      "[[0 2]\n",
      " [6 8]]\n",
      "\n",
      "\n",
      "[[4 5]\n",
      " [7 8]]\n",
      "\n",
      "\n",
      "[3 4 5 6 7 8]\n"
     ]
    }
   ],
   "source": [
    "arr=np.arange(9)\n",
    "arr=arr.reshape(3,3)\n",
    "print(arr)\n",
    "print(\"\\n\")\n",
    "rows=np.array([[0,0],[2,2]])\n",
    "cols=np.array([[0,2],[0,2]])\n",
    "arr3=arr[rows,cols]\n",
    "print(arr3)#四角的元素值\n",
    "print(\"\\n\")\n",
    "print(arr[1:3,1:3])\n",
    "print(\"\\n\")\n",
    "print(arr[arr>2])"
   ]
  },
  {
   "cell_type": "code",
   "execution_count": 56,
   "metadata": {},
   "outputs": [
    {
     "name": "stdout",
     "output_type": "stream",
     "text": [
      "[nan  1.  2.  3. nan  8.  3.  2.]\n",
      "[nan nan]\n",
      "[1. 2. 3. 8. 3. 2.]\n"
     ]
    }
   ],
   "source": [
    "arr=np.array([np.nan,1,2,3,np.nan,8,3,2])\n",
    "print(arr)\n",
    "print(arr[np.isnan(arr)])#输出nan\n",
    "print(arr[~np.isnan(arr)])#除了nan以外的"
   ]
  },
  {
   "cell_type": "code",
   "execution_count": 1,
   "metadata": {},
   "outputs": [
    {
     "name": "stdout",
     "output_type": "stream",
     "text": [
      "C:\\Users\\张笑菡\n"
     ]
    }
   ],
   "source": [
    "import os\n",
    "print(os.path.abspath('.'))"
   ]
  },
  {
   "cell_type": "code",
   "execution_count": null,
   "metadata": {},
   "outputs": [],
   "source": []
  }
 ],
 "metadata": {
  "kernelspec": {
   "display_name": "Python 3",
   "language": "python",
   "name": "python3"
  },
  "language_info": {
   "codemirror_mode": {
    "name": "ipython",
    "version": 3
   },
   "file_extension": ".py",
   "mimetype": "text/x-python",
   "name": "python",
   "nbconvert_exporter": "python",
   "pygments_lexer": "ipython3",
   "version": "3.7.6"
  }
 },
 "nbformat": 4,
 "nbformat_minor": 4
}
